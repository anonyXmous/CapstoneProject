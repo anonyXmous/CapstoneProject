{
 "cells": [
  {
   "cell_type": "markdown",
   "metadata": {
    "collapsed": true
   },
   "source": [
    "<h3>DATA SCIENCE INTERVIEW CHALLENGE<h3>"
   ]
  },
  {
   "cell_type": "markdown",
   "metadata": {},
   "source": [
    "For this exercise, you will analyze a dataset from Amazon. The data format and a sample entry are shown on the next page.\n",
    "A. (Suggested duration: 90 mins)\n",
    "With the given data for 548552 products, perform exploratory analysis and make suggestions for further analysis on the following aspects.\n",
    "1. Trustworthiness of ratings <br>\n",
    "Ratings are susceptible to manipulation, bias etc. What can you say (quantitatively speaking) about the ratings in this dataset?\n",
    "<br>\n",
    "<b> It is using Likert scale (1-5) which a numerical value (a quantitative value) is assigned to a choice (qualitative). About 140K out of 542k of data have zero reviews so those needs to be cleaned or removed before getting the average of the ratings.  The average rating is 4.3 which is interpreted as \"Good to Very Good\" compared to 3.2 (\"Neutral\") for uncleaned data. \n",
    "<br> Software and Baby products have the highest average ratings at 4.5 (\"Very Good\") while Video games has the lowest rating of 2.5 (\"Average\".\n",
    "</b>\n",
    "2. Category bloat<br>\n",
    "Consider the product group named 'Books'. Each product in this group is associated with categories. Naturally, with categorization, there are tradeoffs between how broad or specific the categories must be.\n",
    "For this dataset, quantify the following:<br>\n",
    "a. Is there redundancy in the categorization? How can it be identified/removed?\n",
    "<br>\n",
    "<b> Yes, some of the categories are duplicated like below since Preaching and Sermons can be combined together.\n",
    "</b>\n",
    "<br>\n",
    "|Books[283155]|Subjects[1000]|Religion & Spirituality[22]|Christianity[12290]|Clergy[12360]|Preaching[12368]<br>\n",
    "|Books[283155]|Subjects[1000]|Religion & Spirituality[22]|Christianity[12290]|Clergy[12360]|Sermons[12370]<br>\n",
    "\n",
    "b. Is is possible to reduce the number of categories drastically (say to 10% of existing categories) by sacrificing relatively few category entries (say close to 10%)?\n",
    "<br>\n",
    "<b> Yes, it is possible to reduce the number of categories by filtering relatively few category entries.  We can use Machine Learning algorithm like Naive Bayes, SVM or NLTK or GenSim (uses cosine similarity) to classify similar words in the categories and combine them into fewer categories.\n",
    "</b>\n"
   ]
  },
  {
   "cell_type": "code",
   "execution_count": 23,
   "metadata": {
    "collapsed": true
   },
   "outputs": [],
   "source": [
    "%matplotlib inline\n",
    "import pandas as pd\n",
    "import json\n",
    "from pandas.io.json import json_normalize\n",
    "import numpy as np\n",
    "import matplotlib.pyplot as plt\n",
    "import seaborn as sns; sns.set(color_codes=True)\n",
    "from pylab import plot, show, text\n",
    "import datetime\n",
    "import matplotlib.dates as mdates\n",
    "import pylab"
   ]
  },
  {
   "cell_type": "code",
   "execution_count": 88,
   "metadata": {},
   "outputs": [
    {
     "data": {
      "text/plain": [
       "<function TextIOWrapper.close>"
      ]
     },
     "execution_count": 88,
     "metadata": {},
     "output_type": "execute_result"
    }
   ],
   "source": [
    "# Extract all items and their average rating then save as a file \n",
    "i = 0\n",
    "with open('amazon_users.txt', 'w', encoding=\"utf8\") as file:\n",
    "    with open('amazon-meta.txt', 'r', encoding=\"utf8\") as f:\n",
    "        for line in f:\n",
    "            line = line.strip()\n",
    "            #if i == 10:\n",
    "            #    break\n",
    "            if line[:3] == 'Id:':\n",
    "                id = int(line[4:])\n",
    "                i += 1\n",
    "            if line[:5] == 'ASIN:':\n",
    "                asin = line[6:]\n",
    "            if line[:6] == 'title:':# and asin == '0312254040':\n",
    "                title = line[7:].replace('\"','').replace(',','')\n",
    "            if line[:6] == 'group:':\n",
    "                group = line[7:]\n",
    "            if line[:8] == 'similar:':\n",
    "                similar = int(line[9:11])\n",
    "            if line[:11] == 'categories:':\n",
    "                categories = (line[12:])\n",
    "            if line[:8] == 'reviews:':# and asin == '0312254040':\n",
    "                reviews = int(line[15:18])\n",
    "                avg_rating = float(line[-3:].replace(':',''))\n",
    "                strwrite = str(id) + ',' + asin + ',\"' + title + '\",' + group + ',' +  str(similar) + ',' +  categories + ',' +  str(reviews) + ',' +  str(avg_rating)\n",
    "                file.write(strwrite + '\\n')\n",
    "file.close\n",
    "         \n",
    "            "
   ]
  },
  {
   "cell_type": "code",
   "execution_count": 86,
   "metadata": {},
   "outputs": [
    {
     "name": "stdout",
     "output_type": "stream",
     "text": [
      "categories: 2\n",
      "|Books[283155]|Subjects[1000]|Religion & Spirituality[22]|Christianity[12290]|Clergy[12360]|Preaching[12368]\n",
      "|Books[283155]|Subjects[1000]|Religion & Spirituality[22]|Christianity[12290]|Clergy[12360]|Sermons[12370]\n",
      "categories: 2\n",
      "|Books[283155]|Subjects[1000]|Religion & Spirituality[22]|Earth-Based Religions[12472]|Wicca[12484]\n",
      "|Books[283155]|Subjects[1000]|Religion & Spirituality[22]|Earth-Based Religions[12472]|Witchcraft[12486]\n",
      "categories: 1\n",
      "|Books[283155]|Subjects[1000]|Home & Garden[48]|Crafts & Hobbies[5126]|General[5144]\n",
      "categories: 5\n",
      "|Books[283155]|Subjects[1000]|Religion & Spirituality[22]|Christianity[12290]|Reference[172810]|Commentaries[12155]|New Testament[12159]\n",
      "|Books[283155]|Subjects[1000]|Religion & Spirituality[22]|Christianity[12290]|Christian Living[12333]|Discipleship[12335]\n",
      "|Books[283155]|Subjects[1000]|Religion & Spirituality[22]|Christianity[12290]|Bibles[12059]|Translations[764432]|Life Application[572080]\n",
      "|Books[283155]|Subjects[1000]|Religion & Spirituality[22]|Bible & Other Sacred Texts[12056]|Bible[764430]|New Testament[572082]\n",
      "|Books[283155]|Subjects[1000]|Religion & Spirituality[22]|Christianity[12290]|Bibles[12059]|Study Guides, History & Reference[764438]|General[572094]\n",
      "categories: 2\n",
      "|Books[283155]|Subjects[1000]|Religion & Spirituality[22]|Christianity[12290]|Worship & Devotion[12465]|Prayerbooks[12470]\n",
      "|Books[283155]|Subjects[1000]|Religion & Spirituality[22]|Christianity[12290]|Christian Living[12333]|Business[297488]\n",
      "categories: 5\n",
      "|Books[283155]|Subjects[1000]|Arts & Photography[1]|Photography[2020]|Photo Essays[2082]\n",
      "|Books[283155]|Subjects[1000]|History[9]|Americas[4808]|United States[4853]|General[4870]\n",
      "|Books[283155]|Subjects[1000]|History[9]|Jewish[4992]|General[4993]\n",
      "|Books[283155]|Subjects[1000]|Nonfiction[53]|Social Sciences[11232]|Sociology[11288]|Urban[11296]\n",
      "|[172282]|Categories[493964]|Camera & Photo[502394]|Photography Books[733540]|Photo Essays[733676]\n",
      "categories: 4\n",
      "|Books[283155]|Subjects[1000]|Gay & Lesbian[301889]|Nonfiction[10703]|General[10716]\n",
      "|Books[283155]|Subjects[1000]|Nonfiction[53]|Crime & Criminals[11003]|Criminology[11005]\n",
      "|Books[283155]|Subjects[1000]|Nonfiction[53]|Politics[11079]|General[11083]\n",
      "|Books[283155]|Subjects[1000]|Nonfiction[53]|Politics[11079]|U.S.[11117]\n",
      "categories: 1\n",
      "|Books[283155]|Subjects[1000]|Cooking, Food & Wine[6]|Baking[4196]|Bread[4197]\n"
     ]
    },
    {
     "data": {
      "text/plain": [
       "<function TextIOWrapper.close>"
      ]
     },
     "execution_count": 86,
     "metadata": {},
     "output_type": "execute_result"
    }
   ],
   "source": [
    "#Display and write the categories of sample products\n",
    "\n",
    "i, is_categories, is_group = 0, False, False\n",
    "with open('amazon_categories.txt', 'w', encoding=\"utf8\") as file:\n",
    "    with open('amazon-meta.txt', 'r', encoding=\"utf8\") as f:\n",
    "        for line in f:\n",
    "            line = line.strip()\n",
    "            if i == 10:\n",
    "                break\n",
    "            if line[:6] == 'group:':\n",
    "                #print ('group', (line[7:]))\n",
    "                is_group = line[7:] == 'Book'\n",
    "                j = 0\n",
    "                is_categories = False\n",
    "                i += 1\n",
    "                \n",
    "            if line[:11] == 'categories:' and group:\n",
    "                #print ('categories', (line[12:]))\n",
    "                num_categories = int(line[12:])\n",
    "                is_categories = True\n",
    "            \n",
    "            if (is_categories and is_group and j <= num_categories):\n",
    "                j += 1\n",
    "                print (line)\n",
    "                #strwrite = str(id) + ',' + asin + ',\"' + title + '\",' + group + ',' +  str(similar) + ',' +  categories + ',' +  str(reviews) + ',' +  str(avg_rating)\n",
    "                #file.write(strwrite + '\\n')\n",
    "file.close\n",
    "         \n",
    "            "
   ]
  },
  {
   "cell_type": "code",
   "execution_count": 41,
   "metadata": {},
   "outputs": [],
   "source": [
    "# read file and load to dataframe\n",
    "df = pd.read_csv('amazon_users.txt', header=None, \n",
    "                 names=['id', 'asin', 'title', 'group', 'similar', 'categories', 'reviews', 'avg_rating']) "
   ]
  },
  {
   "cell_type": "code",
   "execution_count": 42,
   "metadata": {},
   "outputs": [
    {
     "data": {
      "text/html": [
       "<div>\n",
       "<style>\n",
       "    .dataframe thead tr:only-child th {\n",
       "        text-align: right;\n",
       "    }\n",
       "\n",
       "    .dataframe thead th {\n",
       "        text-align: left;\n",
       "    }\n",
       "\n",
       "    .dataframe tbody tr th {\n",
       "        vertical-align: top;\n",
       "    }\n",
       "</style>\n",
       "<table border=\"1\" class=\"dataframe\">\n",
       "  <thead>\n",
       "    <tr style=\"text-align: right;\">\n",
       "      <th></th>\n",
       "      <th>id</th>\n",
       "      <th>similar</th>\n",
       "      <th>categories</th>\n",
       "      <th>reviews</th>\n",
       "      <th>avg_rating</th>\n",
       "    </tr>\n",
       "  </thead>\n",
       "  <tbody>\n",
       "    <tr>\n",
       "      <th>count</th>\n",
       "      <td>542684.000000</td>\n",
       "      <td>542684.000000</td>\n",
       "      <td>542684.000000</td>\n",
       "      <td>542684.000000</td>\n",
       "      <td>542684.000000</td>\n",
       "    </tr>\n",
       "    <tr>\n",
       "      <th>mean</th>\n",
       "      <td>274414.212208</td>\n",
       "      <td>3.296071</td>\n",
       "      <td>4.624605</td>\n",
       "      <td>7.498229</td>\n",
       "      <td>3.209534</td>\n",
       "    </tr>\n",
       "    <tr>\n",
       "      <th>std</th>\n",
       "      <td>158454.479276</td>\n",
       "      <td>2.287289</td>\n",
       "      <td>4.450647</td>\n",
       "      <td>13.759132</td>\n",
       "      <td>1.996296</td>\n",
       "    </tr>\n",
       "    <tr>\n",
       "      <th>min</th>\n",
       "      <td>1.000000</td>\n",
       "      <td>0.000000</td>\n",
       "      <td>0.000000</td>\n",
       "      <td>0.000000</td>\n",
       "      <td>0.000000</td>\n",
       "    </tr>\n",
       "    <tr>\n",
       "      <th>25%</th>\n",
       "      <td>137161.750000</td>\n",
       "      <td>0.000000</td>\n",
       "      <td>2.000000</td>\n",
       "      <td>0.000000</td>\n",
       "      <td>0.000000</td>\n",
       "    </tr>\n",
       "    <tr>\n",
       "      <th>50%</th>\n",
       "      <td>274427.500000</td>\n",
       "      <td>5.000000</td>\n",
       "      <td>4.000000</td>\n",
       "      <td>2.000000</td>\n",
       "      <td>4.000000</td>\n",
       "    </tr>\n",
       "    <tr>\n",
       "      <th>75%</th>\n",
       "      <td>411674.250000</td>\n",
       "      <td>5.000000</td>\n",
       "      <td>6.000000</td>\n",
       "      <td>8.000000</td>\n",
       "      <td>5.000000</td>\n",
       "    </tr>\n",
       "    <tr>\n",
       "      <th>max</th>\n",
       "      <td>548551.000000</td>\n",
       "      <td>5.000000</td>\n",
       "      <td>116.000000</td>\n",
       "      <td>99.000000</td>\n",
       "      <td>5.000000</td>\n",
       "    </tr>\n",
       "  </tbody>\n",
       "</table>\n",
       "</div>"
      ],
      "text/plain": [
       "                  id        similar     categories        reviews  \\\n",
       "count  542684.000000  542684.000000  542684.000000  542684.000000   \n",
       "mean   274414.212208       3.296071       4.624605       7.498229   \n",
       "std    158454.479276       2.287289       4.450647      13.759132   \n",
       "min         1.000000       0.000000       0.000000       0.000000   \n",
       "25%    137161.750000       0.000000       2.000000       0.000000   \n",
       "50%    274427.500000       5.000000       4.000000       2.000000   \n",
       "75%    411674.250000       5.000000       6.000000       8.000000   \n",
       "max    548551.000000       5.000000     116.000000      99.000000   \n",
       "\n",
       "          avg_rating  \n",
       "count  542684.000000  \n",
       "mean        3.209534  \n",
       "std         1.996296  \n",
       "min         0.000000  \n",
       "25%         0.000000  \n",
       "50%         4.000000  \n",
       "75%         5.000000  \n",
       "max         5.000000  "
      ]
     },
     "execution_count": 42,
     "metadata": {},
     "output_type": "execute_result"
    }
   ],
   "source": [
    "df.describe()"
   ]
  },
  {
   "cell_type": "code",
   "execution_count": 43,
   "metadata": {},
   "outputs": [
    {
     "data": {
      "text/html": [
       "<div>\n",
       "<style>\n",
       "    .dataframe thead tr:only-child th {\n",
       "        text-align: right;\n",
       "    }\n",
       "\n",
       "    .dataframe thead th {\n",
       "        text-align: left;\n",
       "    }\n",
       "\n",
       "    .dataframe tbody tr th {\n",
       "        vertical-align: top;\n",
       "    }\n",
       "</style>\n",
       "<table border=\"1\" class=\"dataframe\">\n",
       "  <thead>\n",
       "    <tr style=\"text-align: right;\">\n",
       "      <th></th>\n",
       "      <th>id</th>\n",
       "      <th>asin</th>\n",
       "      <th>title</th>\n",
       "      <th>group</th>\n",
       "      <th>similar</th>\n",
       "      <th>categories</th>\n",
       "      <th>reviews</th>\n",
       "      <th>avg_rating</th>\n",
       "    </tr>\n",
       "  </thead>\n",
       "  <tbody>\n",
       "    <tr>\n",
       "      <th>113838</th>\n",
       "      <td>115078</td>\n",
       "      <td>9626341408</td>\n",
       "      <td>The History of Classical Music</td>\n",
       "      <td>Book</td>\n",
       "      <td>5</td>\n",
       "      <td>116</td>\n",
       "      <td>2</td>\n",
       "      <td>4.5</td>\n",
       "    </tr>\n",
       "  </tbody>\n",
       "</table>\n",
       "</div>"
      ],
      "text/plain": [
       "            id        asin                           title group  similar  \\\n",
       "113838  115078  9626341408  The History of Classical Music  Book        5   \n",
       "\n",
       "        categories  reviews  avg_rating  \n",
       "113838         116        2         4.5  "
      ]
     },
     "execution_count": 43,
     "metadata": {},
     "output_type": "execute_result"
    }
   ],
   "source": [
    "# what item has the most number of reviews?\n",
    "df[df['categories'] == 116]"
   ]
  },
  {
   "cell_type": "code",
   "execution_count": 49,
   "metadata": {},
   "outputs": [
    {
     "name": "stdout",
     "output_type": "stream",
     "text": [
      "139949\n"
     ]
    }
   ],
   "source": [
    "# how many items that has no review\n",
    "print(len(df[df.reviews == 0]))"
   ]
  },
  {
   "cell_type": "code",
   "execution_count": 53,
   "metadata": {},
   "outputs": [
    {
     "data": {
      "text/plain": [
       "count    402735.000000\n",
       "mean          4.324836\n",
       "std           0.739279\n",
       "min           1.000000\n",
       "25%           4.000000\n",
       "50%           4.500000\n",
       "75%           5.000000\n",
       "max           5.000000\n",
       "Name: avg_rating, dtype: float64"
      ]
     },
     "execution_count": 53,
     "metadata": {},
     "output_type": "execute_result"
    }
   ],
   "source": [
    "# select items with reviews\n",
    "df_avg_rating = df[df.reviews > 0]\n",
    "df_avg_rating.avg_rating.describe()"
   ]
  },
  {
   "cell_type": "code",
   "execution_count": 58,
   "metadata": {},
   "outputs": [
    {
     "data": {
      "text/plain": [
       "group\n",
       "Software        4.500000\n",
       "Baby Product    4.500000\n",
       "Music           4.482065\n",
       "Toy             4.357143\n",
       "Book            4.315994\n",
       "Video           4.164579\n",
       "Sports          4.000000\n",
       "DVD             3.940051\n",
       "CE              3.500000\n",
       "Video Games     2.500000\n",
       "Name: avg_rating, dtype: float64"
      ]
     },
     "execution_count": 58,
     "metadata": {},
     "output_type": "execute_result"
    }
   ],
   "source": [
    "# what is the average rating of items per group?\n",
    "#CE is consumer electronics\"\n",
    "df_avg_rating.groupby(['group']).avg_rating.mean().sort_values(ascending=False)\n",
    "\n"
   ]
  },
  {
   "cell_type": "markdown",
   "metadata": {},
   "source": [
    "<h3> PART B</h3>\n",
    "B. (Suggested duration: 30 mins)\n",
    "Give the number crunching a rest! Just think about these problems.\n",
    "1. Algorithm thinking<br>\n",
    "How would build the product categorization from scratch, using similar/co-purchased information?<br>\n",
    "<b> I would collect all words in the product categorization and including the categorization of the similar products to the given product. Then using Naive Bayes, or Support Vector Machine (SVM) or NLTK, I would classify the products based on similar categorization among the given product and it's similar products.\n",
    "For example: productA is categorized as cat1, cat2, cat3 while similar product is ProductA1 and categorized as cat1, cat2.1, cat5. Then based on similarity coefficient, ProductA is now classified as (0.6cat1, 0.15cat2, 0.15cat.1, .05cat3, .05cat5). \n",
    "\n",
    "<br>\n",
    "\n",
    "</b>\n",
    "2. Product thinking<br>\n",
    "Now, put on your 'product thinking' hat.<br>\n",
    "a. Is it a good idea to show users the categorization hierarchy for items?<br>\n",
    "<b> Yes, showing users the categorization hierarchy for each items will help them to search for more or other items which are on the same category with what he/she is looking at. This also gives more user engagement on the website and thus increase the probability that this user will purchase an item.\n",
    "</b>\n",
    "b. Is it a good idea to show users similar/co-purchased items?<br>\n",
    "<b> Yes, it is a good idea to show users similar/co-purchased items since it is a quick way to showcase some of the products to the user. It practically increases sales since it will create a good feeling on the customer that it is being personalized for their own needs and increases shopping behavior to check it out or buy more.\n",
    "</b>\n",
    "c. Is it a good idea to show users reviews and ratings for items?<br>\n",
    "<b> Yes, it is a good idea to show users reviews and ratings for items because for some customers that has limited information on the item, they will based their decisions on other customers who bought and used the product. It is also important to display the average rating AND HOW MANY REVIEWS.  A five-star rating with 3 reviewers may not be good compared to 4.5 rating with 100 reviewers.\n",
    "</b>\n",
    "d. For each of the above, why? How will you establish the same?<br>\n",
    "<b> \n",
    "</b>\n"
   ]
  },
  {
   "cell_type": "markdown",
   "metadata": {},
   "source": [
    "#End of Report"
   ]
  }
 ],
 "metadata": {
  "kernelspec": {
   "display_name": "Python 3",
   "language": "python",
   "name": "python3"
  },
  "language_info": {
   "codemirror_mode": {
    "name": "ipython",
    "version": 3
   },
   "file_extension": ".py",
   "mimetype": "text/x-python",
   "name": "python",
   "nbconvert_exporter": "python",
   "pygments_lexer": "ipython3",
   "version": "3.5.3"
  }
 },
 "nbformat": 4,
 "nbformat_minor": 2
}
