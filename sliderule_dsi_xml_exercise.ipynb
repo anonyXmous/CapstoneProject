{
 "cells": [
  {
   "cell_type": "markdown",
   "metadata": {},
   "source": [
    "# XML example and exercise\n",
    "****\n",
    "+ study examples of accessing nodes in XML tree structure  \n",
    "+ work on exercise to be completed and submitted\n",
    "****\n",
    "+ reference: https://docs.python.org/2.7/library/xml.etree.elementtree.html\n",
    "+ data source: http://www.dbis.informatik.uni-goettingen.de/Mondial\n",
    "****"
   ]
  },
  {
   "cell_type": "code",
   "execution_count": 1,
   "metadata": {
    "collapsed": true
   },
   "outputs": [],
   "source": [
    "from xml.etree import ElementTree as ET"
   ]
  },
  {
   "cell_type": "markdown",
   "metadata": {},
   "source": [
    "## XML example\n",
    "\n",
    "+ for details about tree traversal and iterators, see https://docs.python.org/2.7/library/xml.etree.elementtree.html"
   ]
  },
  {
   "cell_type": "code",
   "execution_count": 2,
   "metadata": {
    "collapsed": true
   },
   "outputs": [],
   "source": [
    "document_tree = ET.parse( 'data/mondial_database_less.xml' )"
   ]
  },
  {
   "cell_type": "code",
   "execution_count": 3,
   "metadata": {
    "collapsed": false
   },
   "outputs": [
    {
     "name": "stdout",
     "output_type": "stream",
     "text": [
      "Albania\n",
      "Greece\n",
      "Macedonia\n",
      "Serbia\n",
      "Montenegro\n",
      "Kosovo\n",
      "Andorra\n"
     ]
    }
   ],
   "source": [
    "# print names of all countries\n",
    "for child in document_tree.getroot():\n",
    "    print (child.find('name').text)"
   ]
  },
  {
   "cell_type": "code",
   "execution_count": 4,
   "metadata": {
    "collapsed": false
   },
   "outputs": [
    {
     "name": "stdout",
     "output_type": "stream",
     "text": [
      "* Albania:\n",
      "Tirana, Shkodër, Durrës, Vlorë, Elbasan, Korçë\n",
      "* Greece:\n",
      "Komotini, Kavala, Athina, Peiraias, Peristeri, Acharnes, Patra, Kozani, Kerkyra, Ioannina, Thessaloniki, Iraklio, Chania, Ermoupoli, Rhodes, Tripoli, Lamia, Chalkida, Larissa, Volos, Mytilini, Karyes\n",
      "* Macedonia:\n",
      "Skopje, Kumanovo\n",
      "* Serbia:\n",
      "Beograd, Novi Sad, Niš\n",
      "* Montenegro:\n",
      "Podgorica\n",
      "* Kosovo:\n",
      "Prishtine\n",
      "* Andorra:\n",
      "Andorra la Vella\n"
     ]
    }
   ],
   "source": [
    "# print names of all countries and their cities\n",
    "for element in document_tree.iterfind('country'):\n",
    "    print ('* ' + element.find('name').text + ':',)\n",
    "    capitals_string = ''\n",
    "    for subelement in element.getiterator('city'):\n",
    "        capitals_string += subelement.find('name').text + ', '\n",
    "    print (capitals_string[:-2])"
   ]
  },
  {
   "cell_type": "markdown",
   "metadata": {},
   "source": [
    "****\n",
    "## XML exercise\n",
    "\n",
    "Using data in 'data/mondial_database.xml', the examples above, and refering to https://docs.python.org/2.7/library/xml.etree.elementtree.html, find\n",
    "\n",
    "1. 10 countries with the lowest infant mortality rates\n",
    "2. 10 cities with the largest population\n",
    "3. 10 ethnic groups with the largest overall populations (sum of best/latest estimates over all countries)\n",
    "4. name and country of a) longest river, b) largest lake and c) airport at highest elevation"
   ]
  },
  {
   "cell_type": "code",
   "execution_count": 5,
   "metadata": {
    "collapsed": false
   },
   "outputs": [],
   "source": [
    "document = ET.parse( './data/mondial_database.xml' )\n"
   ]
  },
  {
   "cell_type": "markdown",
   "metadata": {},
   "source": [
    "10 countries with the lowest infant mortality rates"
   ]
  },
  {
   "cell_type": "code",
   "execution_count": 6,
   "metadata": {
    "collapsed": true
   },
   "outputs": [],
   "source": [
    "import pandas as pd\n",
    " "
   ]
  },
  {
   "cell_type": "code",
   "execution_count": 7,
   "metadata": {
    "collapsed": false
   },
   "outputs": [
    {
     "data": {
      "text/html": [
       "<div>\n",
       "<table border=\"1\" class=\"dataframe\">\n",
       "  <thead>\n",
       "    <tr style=\"text-align: right;\">\n",
       "      <th></th>\n",
       "      <th>name</th>\n",
       "      <th>infant_mortality</th>\n",
       "    </tr>\n",
       "  </thead>\n",
       "  <tbody>\n",
       "    <tr>\n",
       "      <th>0</th>\n",
       "      <td>Monaco</td>\n",
       "      <td>1.81</td>\n",
       "    </tr>\n",
       "    <tr>\n",
       "      <th>1</th>\n",
       "      <td>Japan</td>\n",
       "      <td>2.13</td>\n",
       "    </tr>\n",
       "    <tr>\n",
       "      <th>2</th>\n",
       "      <td>Bermuda</td>\n",
       "      <td>2.48</td>\n",
       "    </tr>\n",
       "    <tr>\n",
       "      <th>3</th>\n",
       "      <td>Norway</td>\n",
       "      <td>2.48</td>\n",
       "    </tr>\n",
       "    <tr>\n",
       "      <th>4</th>\n",
       "      <td>Singapore</td>\n",
       "      <td>2.53</td>\n",
       "    </tr>\n",
       "    <tr>\n",
       "      <th>5</th>\n",
       "      <td>Sweden</td>\n",
       "      <td>2.60</td>\n",
       "    </tr>\n",
       "    <tr>\n",
       "      <th>6</th>\n",
       "      <td>Czech Republic</td>\n",
       "      <td>2.63</td>\n",
       "    </tr>\n",
       "    <tr>\n",
       "      <th>7</th>\n",
       "      <td>Hong Kong</td>\n",
       "      <td>2.73</td>\n",
       "    </tr>\n",
       "    <tr>\n",
       "      <th>8</th>\n",
       "      <td>Macao</td>\n",
       "      <td>3.13</td>\n",
       "    </tr>\n",
       "    <tr>\n",
       "      <th>9</th>\n",
       "      <td>Iceland</td>\n",
       "      <td>3.15</td>\n",
       "    </tr>\n",
       "  </tbody>\n",
       "</table>\n",
       "</div>"
      ],
      "text/plain": [
       "             name  infant_mortality\n",
       "0          Monaco              1.81\n",
       "1           Japan              2.13\n",
       "2         Bermuda              2.48\n",
       "3          Norway              2.48\n",
       "4       Singapore              2.53\n",
       "5          Sweden              2.60\n",
       "6  Czech Republic              2.63\n",
       "7       Hong Kong              2.73\n",
       "8           Macao              3.13\n",
       "9         Iceland              3.15"
      ]
     },
     "execution_count": 7,
     "metadata": {},
     "output_type": "execute_result"
    }
   ],
   "source": [
    "# gather all data into a list\n",
    "root = document.getroot()\n",
    "df = []\n",
    "for country in root.findall('country'): \n",
    "    infmort = country.find('infant_mortality')\n",
    "    cname   = country.find('name')\n",
    "    if infmort != None:\n",
    "        df.append([cname.text, pd.to_numeric(infmort.text)])\n",
    "\n",
    "# convert into a dataframe\n",
    "df = pd.DataFrame(df)\n",
    "\n",
    "# assign column names\n",
    "df.columns = ['name', 'infant_mortality']\n",
    "\n",
    "# sort by infant mortality, ascending=True \n",
    "pd.options.display.float_format = '{:,.2f}'.format\n",
    "df = df.sort_values(['infant_mortality'], ascending=[1]).head(10).reset_index(drop=True)\n",
    "df\n",
    "\n"
   ]
  },
  {
   "cell_type": "markdown",
   "metadata": {
    "collapsed": true
   },
   "source": [
    "10 cities with the largest population"
   ]
  },
  {
   "cell_type": "code",
   "execution_count": 8,
   "metadata": {
    "collapsed": false
   },
   "outputs": [
    {
     "name": "stdout",
     "output_type": "stream",
     "text": [
      "         country  year    population\n",
      "0          China  2013 1,360,720,000\n",
      "1          India  2011 1,210,854,977\n",
      "2  United States  2014   318,857,056\n",
      "3      Indonesia  2014   252,124,458\n",
      "4         Brazil  2014   202,768,562\n",
      "5       Pakistan  2010   173,149,306\n",
      "6        Nigeria  2011   164,294,516\n",
      "7     Bangladesh  2011   149,772,364\n",
      "8         Russia  2014   143,666,931\n",
      "9          Japan  2013   127,298,000\n"
     ]
    }
   ],
   "source": [
    "# gather population tags per country (excluding per city/prov)\n",
    "df = []\n",
    "for root in document.getroot():\n",
    "    country = root.find('name').text\n",
    "    for child in root:\n",
    "        if ((root.tag == 'country') & (child.tag=='population')):\n",
    "            yr  = child.attrib['year']\n",
    "            pop = child.text\n",
    "    df.append([country, yr, pd.to_numeric(pop)])\n",
    "\n",
    "# convert into a dataframe\n",
    "df = pd.DataFrame(df, columns = ['country', 'year', 'population'])\n",
    "\n",
    "# sort by population, ascending=False \n",
    "df.population = df.population.astype(float)\n",
    "pd.options.display.float_format = '{:,.0f}'.format\n",
    "print(df.sort_values(['population'], ascending=[0]).head(10).reset_index(drop=True))\n",
    "\n"
   ]
  },
  {
   "cell_type": "markdown",
   "metadata": {},
   "source": [
    "10 ethnic groups with the largest overall populations (sum of best/latest estimates over all countries)"
   ]
  },
  {
   "cell_type": "code",
   "execution_count": null,
   "metadata": {
    "collapsed": true
   },
   "outputs": [],
   "source": []
  },
  {
   "cell_type": "code",
   "execution_count": 9,
   "metadata": {
    "collapsed": false
   },
   "outputs": [
    {
     "name": "stdout",
     "output_type": "stream",
     "text": [
      "   ethnicgroup    population\n",
      "0  Han Chinese 1,245,058,800\n",
      "1   Indo-Aryan   871,815,583\n",
      "2    Dravidian   302,713,744\n",
      "3     European   254,958,102\n",
      "4      African   162,651,571\n",
      "5      Bengali   146,776,917\n",
      "6     Japanese   126,534,212\n",
      "7      Russian   114,646,211\n",
      "8     Javanese   113,456,006\n",
      "9     European   108,886,718\n"
     ]
    }
   ],
   "source": [
    "df_eth_cnt = []        \n",
    "for root in document.getroot():\n",
    "    country = root.find('name').text\n",
    "    df_eth = []\n",
    "    for child in root:\n",
    "        if ((root.tag == 'country') & (child.tag=='population')):\n",
    "            yr  = child.attrib['year']\n",
    "            pop = child.text\n",
    "        if ((root.tag == 'country') & (child.tag=='ethnicgroup')):\n",
    "            percent = pd.to_numeric(child.attrib['percentage'])\n",
    "            ethnic  = child.text\n",
    "            df_eth.append([percent, ethnic])  \n",
    "    for k in range(len(df_eth)):\n",
    "        df_eth_cnt.append([df_eth[k][1], (df_eth[k][0])*(pd.to_numeric(pop)/100)])\n",
    "    #df_pop.append([country, yr, pd.to_numeric(pop), df_eth_cnt])\n",
    "df = pd.DataFrame(df_eth_cnt, columns = ['ethnicgroup', 'population'])\n",
    "\n",
    "print(df.sort_values(['population'], ascending=[0]).head(10).reset_index(drop=True))\n",
    "\n"
   ]
  },
  {
   "cell_type": "code",
   "execution_count": null,
   "metadata": {
    "collapsed": true
   },
   "outputs": [],
   "source": []
  },
  {
   "cell_type": "markdown",
   "metadata": {
    "collapsed": true
   },
   "source": [
    "name and country of a) longest river"
   ]
  },
  {
   "cell_type": "code",
   "execution_count": 10,
   "metadata": {
    "collapsed": false
   },
   "outputs": [
    {
     "data": {
      "text/html": [
       "<div>\n",
       "<table border=\"1\" class=\"dataframe\">\n",
       "  <thead>\n",
       "    <tr style=\"text-align: right;\">\n",
       "      <th></th>\n",
       "      <th>country(ies)</th>\n",
       "      <th>river_name</th>\n",
       "      <th>length</th>\n",
       "    </tr>\n",
       "  </thead>\n",
       "  <tbody>\n",
       "    <tr>\n",
       "      <th>0</th>\n",
       "      <td>Colombia Brazil Peru</td>\n",
       "      <td>Amazonas</td>\n",
       "      <td>6,448</td>\n",
       "    </tr>\n",
       "  </tbody>\n",
       "</table>\n",
       "</div>"
      ],
      "text/plain": [
       "           country(ies) river_name  length\n",
       "0  Colombia Brazil Peru   Amazonas   6,448"
      ]
     },
     "execution_count": 10,
     "metadata": {},
     "output_type": "execute_result"
    }
   ],
   "source": [
    "# gather all data into a list\n",
    "root = document.getroot()\n",
    "dfcntry = []\n",
    "for country in root.findall('country'):\n",
    "    dfcntry.append([country.attrib['car_code'], country.find('name').text])\n",
    "    \n",
    "dfcntry = pd.DataFrame(dfcntry, columns=['country_code','country_name'])    \n",
    "dfUniq = dfcntry[(dfcntry.country_name != '')].drop_duplicates('country_code')\n",
    "dfUniq = pd.DataFrame(dfUniq, columns=['country_code','country_name'])  \n",
    "   \n",
    "df = []    \n",
    "for river in root.findall('river'): \n",
    "    length = river.find('length')\n",
    "    rivername   = river.find('name')\n",
    "    if length != None:\n",
    "        df.append([river.attrib['country'], rivername.text, pd.to_numeric(length.text)])\n",
    "\n",
    "# convert into a dataframe\n",
    "df = pd.DataFrame(df, columns = ['country(ies)', 'river_name', 'length'])\n",
    "\n",
    "# print answer\n",
    "df = df.sort_values(['length'], ascending=[0]).head(1).reset_index(drop=True)\n",
    "\n",
    "# extract country names\n",
    "cntry = []\n",
    "for i in df['country(ies)'].str.split():\n",
    "    for j in range(len(i)):\n",
    "        cntry.append(dfUniq.loc[dfUniq['country_code'] == i[j]])\n",
    "\n",
    "# concat names into a string\n",
    "str =''\n",
    "for k in range(len(cntry)):\n",
    "    str += (cntry[k]['country_name'].values[0]) + \" \"\n",
    "\n",
    "#remove last space\n",
    "str = str[:-1]   \n",
    "\n",
    "# update country name\n",
    "df['country(ies)'] = str\n",
    "\n",
    "# display answer\n",
    "df\n"
   ]
  },
  {
   "cell_type": "markdown",
   "metadata": {
    "collapsed": true
   },
   "source": [
    "name and country of  b) largest lake"
   ]
  },
  {
   "cell_type": "code",
   "execution_count": 11,
   "metadata": {
    "collapsed": false
   },
   "outputs": [
    {
     "data": {
      "text/html": [
       "<div>\n",
       "<table border=\"1\" class=\"dataframe\">\n",
       "  <thead>\n",
       "    <tr style=\"text-align: right;\">\n",
       "      <th></th>\n",
       "      <th>country(ies)</th>\n",
       "      <th>lake_name</th>\n",
       "      <th>area</th>\n",
       "    </tr>\n",
       "  </thead>\n",
       "  <tbody>\n",
       "    <tr>\n",
       "      <th>0</th>\n",
       "      <td>Russia Azerbaijan Kazakhstan Iran Turkmenistan</td>\n",
       "      <td>Caspian Sea</td>\n",
       "      <td>386,400</td>\n",
       "    </tr>\n",
       "  </tbody>\n",
       "</table>\n",
       "</div>"
      ],
      "text/plain": [
       "                                     country(ies)    lake_name    area\n",
       "0  Russia Azerbaijan Kazakhstan Iran Turkmenistan  Caspian Sea 386,400"
      ]
     },
     "execution_count": 11,
     "metadata": {},
     "output_type": "execute_result"
    }
   ],
   "source": [
    "# gather all data into a list\n",
    "dfcntry = []\n",
    "for country in root.findall('country'):\n",
    "    dfcntry.append([country.attrib['car_code'], country.find('name').text])\n",
    "    \n",
    "dfcntry = pd.DataFrame(dfcntry, columns=['country_code','country_name'])    \n",
    "dfUniq = dfcntry[(dfcntry.country_name != '')].drop_duplicates('country_code')\n",
    "dfUniq = pd.DataFrame(dfUniq, columns=['country_code','country_name'])  \n",
    "\n",
    "root = document.getroot()\n",
    "df = []\n",
    "for lake in root.findall('lake'): \n",
    "    area = lake.find('area')\n",
    "    lakename   = lake.find('name')\n",
    "    if area != None:\n",
    "        df.append([lake.attrib['country'], lakename.text, pd.to_numeric(area.text)])\n",
    "\n",
    "# convert into a dataframe\n",
    "df = pd.DataFrame(df, columns = ['country(ies)', 'lake_name', 'area'])\n",
    "\n",
    "# get largest lake by area\n",
    "df = df.sort_values(['area'], ascending=[0]).head(1).reset_index(drop=True)\n",
    "\n",
    "# extract country names\n",
    "cntry = []\n",
    "for i in df['country(ies)'].str.split():\n",
    "    for j in range(len(i)):\n",
    "        cntry.append(dfUniq.loc[dfUniq['country_code'] == i[j]])\n",
    "\n",
    "# concat names into a string\n",
    "str =''\n",
    "for k in range(len(cntry)):\n",
    "    str += (cntry[k]['country_name'].values[0]) + \" \"\n",
    "\n",
    "#remove last space\n",
    "str = str[:-1]   \n",
    "\n",
    "# update country name\n",
    "df['country(ies)'] = str\n",
    "\n",
    "# display answer\n",
    "df\n"
   ]
  },
  {
   "cell_type": "markdown",
   "metadata": {
    "collapsed": true
   },
   "source": [
    "name and country of  c) airport at highest elevation"
   ]
  },
  {
   "cell_type": "code",
   "execution_count": 12,
   "metadata": {
    "collapsed": false
   },
   "outputs": [
    {
     "data": {
      "text/html": [
       "<div>\n",
       "<table border=\"1\" class=\"dataframe\">\n",
       "  <thead>\n",
       "    <tr style=\"text-align: right;\">\n",
       "      <th></th>\n",
       "      <th>country_name</th>\n",
       "      <th>airport_name</th>\n",
       "      <th>elevation</th>\n",
       "    </tr>\n",
       "  </thead>\n",
       "  <tbody>\n",
       "    <tr>\n",
       "      <th>0</th>\n",
       "      <td>Bolivia</td>\n",
       "      <td>El Alto Intl</td>\n",
       "      <td>4063</td>\n",
       "    </tr>\n",
       "  </tbody>\n",
       "</table>\n",
       "</div>"
      ],
      "text/plain": [
       "  country_name  airport_name  elevation\n",
       "0      Bolivia  El Alto Intl       4063"
      ]
     },
     "execution_count": 12,
     "metadata": {},
     "output_type": "execute_result"
    }
   ],
   "source": [
    "# create a new dataframe with unique project code and name\n",
    "\n",
    "root = document.getroot()\n",
    "dfcntry = []\n",
    "for country in root.findall('country'):\n",
    "    dfcntry.append([country.attrib['car_code'], country.find('name').text])\n",
    "    \n",
    "dfcntry = pd.DataFrame(dfcntry, columns=['country_code','country_name'])    \n",
    "dfUniq = dfcntry[(dfcntry.country_name != '')].drop_duplicates('country_code')\n",
    "dfUniq = pd.DataFrame(dfUniq, columns=['country_code','country_name'])  \n",
    "\n",
    "# gather all data into a list\n",
    "df = []    \n",
    "for airport in root.findall('airport'): \n",
    "    area = airport.find('elevation')\n",
    "    airportname   = airport.find('name')\n",
    "    if area.text != None:\n",
    "        df.append([airport.attrib['country'], airportname.text, pd.to_numeric(area.text)])\n",
    "\n",
    "# convert into a dataframe\n",
    "df = pd.DataFrame(df, columns = ['country_code', 'airport_name', 'elevation'])\n",
    "\n",
    "# get country with highest elevation\n",
    "df = df.sort_values(['elevation'], ascending=[0]).head(1).reset_index(drop=True)\n",
    "\n",
    "# locate the country names from list of unique country codes\n",
    "dfCntry = dfUniq.loc[dfUniq['country_code'] == df['country_code'].values[0]] \n",
    "\n",
    "# merge two dataframes, print answer\n",
    "df = pd.merge(dfCntry, df, on='country_code', how='outer')\n",
    "\n",
    "# i don't want to display country code\n",
    "del df['country_code']\n",
    "df\n",
    " "
   ]
  },
  {
   "cell_type": "code",
   "execution_count": null,
   "metadata": {
    "collapsed": true
   },
   "outputs": [],
   "source": []
  },
  {
   "cell_type": "code",
   "execution_count": null,
   "metadata": {
    "collapsed": true
   },
   "outputs": [],
   "source": []
  }
 ],
 "metadata": {
  "kernelspec": {
   "display_name": "Python 3",
   "language": "python",
   "name": "python3"
  },
  "language_info": {
   "codemirror_mode": {
    "name": "ipython",
    "version": 3
   },
   "file_extension": ".py",
   "mimetype": "text/x-python",
   "name": "python",
   "nbconvert_exporter": "python",
   "pygments_lexer": "ipython3",
   "version": "3.6.0"
  }
 },
 "nbformat": 4,
 "nbformat_minor": 0
}
